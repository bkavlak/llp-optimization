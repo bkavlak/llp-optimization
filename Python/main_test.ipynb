{
 "metadata": {
  "language_info": {
   "codemirror_mode": {
    "name": "ipython",
    "version": 3
   },
   "file_extension": ".py",
   "mimetype": "text/x-python",
   "name": "python",
   "nbconvert_exporter": "python",
   "pygments_lexer": "ipython3",
   "version": "3.7.4-final"
  },
  "orig_nbformat": 2,
  "kernelspec": {
   "name": "python3",
   "display_name": "Python 3",
   "language": "python"
  }
 },
 "nbformat": 4,
 "nbformat_minor": 2,
 "cells": [
  {
   "source": [
    "### PREPARATION"
   ],
   "cell_type": "markdown",
   "metadata": {}
  },
  {
   "cell_type": "code",
   "execution_count": 1,
   "metadata": {},
   "outputs": [],
   "source": [
    "from pulp import *\n",
    "import numpy as np\n",
    "import pandas as pd\n",
    "import re\n",
    "import os\n",
    "import sys\n",
    "from functools import partial\n",
    "import time\n",
    "from itertools import repeat"
   ]
  },
  {
   "cell_type": "code",
   "execution_count": 2,
   "metadata": {},
   "outputs": [],
   "source": [
    "## Change directory\n",
    "os.chdir(\"/home/ziya/Desktop/PROCESS/Optimization/scenarios/scenario-1\")\n",
    "\n",
    "## Read data\n",
    "var_data = pd.read_csv('./variable-coefficients/input/district/DoktarVariableInput_1_225.csv', encoding = 'utf-8')\n",
    "min_area_cons = pd.read_csv('./constraints/DoktarDistrictMinAreaCons_scenario-1.csv', encoding = 'utf-8')\n",
    "max_area_cons = pd.read_csv('./constraints/DoktarDistrictMaxAreaCons_scenario-1.csv', encoding = 'utf-8')\n",
    "program_name = 'TrAgriOpt'\n",
    "\n",
    "## Create the LP object, set up as a maximization problem\n",
    "prob = pulp.LpProblem(program_name, LpMaximize)"
   ]
  },
  {
   "cell_type": "code",
   "execution_count": null,
   "metadata": {},
   "outputs": [],
   "source": [
    "# Report Execution Time\n",
    "with open(\"./results/report/Optimization_Report_\" + \"TEST\" + \".txt\", \"w\") as f:\n",
    "    f.write(str(var_data.info(verbose=False, memory_usage=\"deep\")))"
   ]
  },
  {
   "source": [
    "### VARIABLE REGISTRATION\n",
    "x0 + x1 + x2 + x3 ..."
   ],
   "cell_type": "markdown",
   "metadata": {}
  },
  {
   "cell_type": "code",
   "execution_count": 3,
   "metadata": {},
   "outputs": [],
   "source": [
    "def register_var(rownum = 0):\n",
    "    variable = str('x' + str(rownum))\n",
    "    variable = pulp.LpVariable(str(variable), lowBound = 0, upBound = 1, cat= 'Integer') #make variables binary\n",
    "    return variable"
   ]
  },
  {
   "cell_type": "code",
   "execution_count": 4,
   "metadata": {},
   "outputs": [
    {
     "output_type": "stream",
     "name": "stdout",
     "text": [
      "CPU times: user 7.28 ms, sys: 0 ns, total: 7.28 ms\nWall time: 7.2 ms\n"
     ]
    }
   ],
   "source": [
    "%%time\n",
    "# Create decision - sown or not?\n",
    "row_list = list(var_data.index)\n",
    "decision_variables = list(map(register_var, row_list))"
   ]
  },
  {
   "cell_type": "code",
   "execution_count": 5,
   "metadata": {
    "tags": []
   },
   "outputs": [
    {
     "output_type": "stream",
     "name": "stdout",
     "text": [
      "Total number of decision_variables: 2023\nx3\n<class 'pulp.pulp.LpVariable'>\n"
     ]
    }
   ],
   "source": [
    "print(\"Total number of decision_variables: \" + str(len(decision_variables)))\n",
    "print(decision_variables[3])\n",
    "print(type(decision_variables[3]))"
   ]
  },
  {
   "cell_type": "code",
   "execution_count": 6,
   "metadata": {},
   "outputs": [],
   "source": [
    "## Add variable names to main csv\n",
    "var_data['VarName'] = decision_variables"
   ]
  },
  {
   "cell_type": "code",
   "execution_count": 7,
   "metadata": {},
   "outputs": [
    {
     "output_type": "execute_result",
     "data": {
      "text/plain": [
       "   CityId  DistrictId  FieldId  IrrigationId CityName DistrictName  FieldArea  \\\n",
       "0       1         225    81751             1    ADANA       ALADAĞ   1.183187   \n",
       "1       1         225    81752             1    ADANA       ALADAĞ   1.099758   \n",
       "2       1         225    81753             1    ADANA       ALADAĞ   0.442404   \n",
       "3       1         225    81754             1    ADANA       ALADAĞ   0.791450   \n",
       "4       1         225    81755             1    ADANA       ALADAĞ   1.012276   \n",
       "\n",
       "    Percent  Yield  Price  Cost CropName         Coef VarName  \n",
       "0  1.079264    292   2.06   798    Wheat -1760.594052      x0  \n",
       "1  1.079264    292   2.06   798    Wheat -1636.451155      x1  \n",
       "2  0.979264    292   2.06   798    Wheat  -924.416969      x2  \n",
       "3  1.079274    292   2.06   798    Wheat -1177.637603      x3  \n",
       "4  0.979274    292   2.06   798    Wheat -2115.119599      x4  "
      ],
      "text/html": "<div>\n<style scoped>\n    .dataframe tbody tr th:only-of-type {\n        vertical-align: middle;\n    }\n\n    .dataframe tbody tr th {\n        vertical-align: top;\n    }\n\n    .dataframe thead th {\n        text-align: right;\n    }\n</style>\n<table border=\"1\" class=\"dataframe\">\n  <thead>\n    <tr style=\"text-align: right;\">\n      <th></th>\n      <th>CityId</th>\n      <th>DistrictId</th>\n      <th>FieldId</th>\n      <th>IrrigationId</th>\n      <th>CityName</th>\n      <th>DistrictName</th>\n      <th>FieldArea</th>\n      <th>Percent</th>\n      <th>Yield</th>\n      <th>Price</th>\n      <th>Cost</th>\n      <th>CropName</th>\n      <th>Coef</th>\n      <th>VarName</th>\n    </tr>\n  </thead>\n  <tbody>\n    <tr>\n      <td>0</td>\n      <td>1</td>\n      <td>225</td>\n      <td>81751</td>\n      <td>1</td>\n      <td>ADANA</td>\n      <td>ALADAĞ</td>\n      <td>1.183187</td>\n      <td>1.079264</td>\n      <td>292</td>\n      <td>2.06</td>\n      <td>798</td>\n      <td>Wheat</td>\n      <td>-1760.594052</td>\n      <td>x0</td>\n    </tr>\n    <tr>\n      <td>1</td>\n      <td>1</td>\n      <td>225</td>\n      <td>81752</td>\n      <td>1</td>\n      <td>ADANA</td>\n      <td>ALADAĞ</td>\n      <td>1.099758</td>\n      <td>1.079264</td>\n      <td>292</td>\n      <td>2.06</td>\n      <td>798</td>\n      <td>Wheat</td>\n      <td>-1636.451155</td>\n      <td>x1</td>\n    </tr>\n    <tr>\n      <td>2</td>\n      <td>1</td>\n      <td>225</td>\n      <td>81753</td>\n      <td>1</td>\n      <td>ADANA</td>\n      <td>ALADAĞ</td>\n      <td>0.442404</td>\n      <td>0.979264</td>\n      <td>292</td>\n      <td>2.06</td>\n      <td>798</td>\n      <td>Wheat</td>\n      <td>-924.416969</td>\n      <td>x2</td>\n    </tr>\n    <tr>\n      <td>3</td>\n      <td>1</td>\n      <td>225</td>\n      <td>81754</td>\n      <td>1</td>\n      <td>ADANA</td>\n      <td>ALADAĞ</td>\n      <td>0.791450</td>\n      <td>1.079274</td>\n      <td>292</td>\n      <td>2.06</td>\n      <td>798</td>\n      <td>Wheat</td>\n      <td>-1177.637603</td>\n      <td>x3</td>\n    </tr>\n    <tr>\n      <td>4</td>\n      <td>1</td>\n      <td>225</td>\n      <td>81755</td>\n      <td>1</td>\n      <td>ADANA</td>\n      <td>ALADAĞ</td>\n      <td>1.012276</td>\n      <td>0.979274</td>\n      <td>292</td>\n      <td>2.06</td>\n      <td>798</td>\n      <td>Wheat</td>\n      <td>-2115.119599</td>\n      <td>x4</td>\n    </tr>\n  </tbody>\n</table>\n</div>"
     },
     "metadata": {},
     "execution_count": 7
    }
   ],
   "source": [
    "var_data.head()"
   ]
  },
  {
   "source": [
    "### OPTIMIZATION FORMULA\n",
    "10*x0 + 5*x1 + 7*x2 - 3*x4 ..."
   ],
   "cell_type": "markdown",
   "metadata": {}
  },
  {
   "cell_type": "code",
   "execution_count": 8,
   "metadata": {},
   "outputs": [
    {
     "output_type": "stream",
     "name": "stdout",
     "text": [
      "CPU times: user 22.9 ms, sys: 3.81 ms, total: 26.7 ms\nWall time: 28.3 ms\n"
     ]
    }
   ],
   "source": [
    "%%time\n",
    "prob += lpSum(var_data['Coef'] * var_data['VarName'])"
   ]
  },
  {
   "source": [
    "### CONSTRAINT ON EACH FIELD ID\n",
    "\n",
    "x0 + x1 + x2 ... <= 1\n",
    "\n",
    "x17 + x18 + x19 ... <= 1\n",
    "\n",
    "..."
   ],
   "cell_type": "markdown",
   "metadata": {}
  },
  {
   "cell_type": "code",
   "execution_count": 9,
   "metadata": {},
   "outputs": [],
   "source": [
    "# Unique FieldId List\n",
    "id_unqiue = var_data.FieldId.unique()"
   ]
  },
  {
   "cell_type": "code",
   "execution_count": 10,
   "metadata": {},
   "outputs": [],
   "source": [
    "def add_field_constraint(field_id, prob):\n",
    "    prob += lpSum(var_data[var_data['FieldId']==field_id]['VarName'].tolist()) <= 1"
   ]
  },
  {
   "source": [
    "# starting time\n",
    "start = time.time()\n",
    "add_field_partial = partial(add_field_constraint, prob = prob)\n",
    "list(map(add_field_partial, id_unqiue))\n",
    "# ending time\n",
    "end = time.time()\n",
    "print(f\"Runtime of the field constraint registration is {(end - start) / 60} mins\")\n",
    "# Report Optimization State\n",
    "with open(\"./results/report/Optimization_Report_TEST.txt\", \"w\") as f:\n",
    "    print(prob, file=f)"
   ],
   "cell_type": "code",
   "metadata": {},
   "execution_count": 11,
   "outputs": [
    {
     "output_type": "stream",
     "name": "stdout",
     "text": [
      "Runtime of the field constraint registration is 0.0012625892957051595 mins\n"
     ]
    }
   ]
  },
  {
   "source": [
    "%%time\n",
    "for i in id_unqiue:\n",
    "    prob += lpSum(var_data[var_data['FieldId']==i]['VarName'].tolist()) <= 1"
   ],
   "cell_type": "markdown",
   "metadata": {
    "tags": []
   }
  },
  {
   "source": [
    "### CONSTRAINT ON MIN - MAX AREAS"
   ],
   "cell_type": "markdown",
   "metadata": {}
  },
  {
   "cell_type": "code",
   "execution_count": null,
   "metadata": {},
   "outputs": [],
   "source": [
    "def add_area_constraint(district_id, crop_name, prob, var_data, min_area_cons, max_area_cons):\n",
    "        sub_min_data = min_area_cons[(min_area_cons['CityId'] == 1) & (min_area_cons['DistrictId'] == district_id)]\n",
    "        sub_max_data = max_area_cons[(max_area_cons['CityId'] == 1) & (max_area_cons['DistrictId'] == district_id)]\n",
    "        sub_crop_data = var_data[var_data['CropName'] == crop_name]\n",
    "        min_area = sub_min_data[str('Min' + crop_name + 'Area')]\n",
    "        max_area = sub_max_data[str('Max' + crop_name + 'Area')]\n",
    "        prob += pulp.lpSum(sub_crop_data['VarName'] * sub_crop_data['FieldArea']) >= min_area\n",
    "        prob += pulp.lpSum(sub_crop_data['VarName'] * sub_crop_data['FieldArea']) <= max_area"
   ]
  },
  {
   "source": [
    "# starting time\n",
    "start = time.time()\n",
    "# Get District & Crop Name List\n",
    "district_list = list(var_data.DistrictId.unique())\n",
    "district_count = len(district_list)\n",
    "district_list = [x for item in district_list for x in repeat(item, 17)]\n",
    "crop_list = list(var_data.CropName.unique()) * district_count\n",
    "add_area_partial = partial(add_area_constraint, prob = prob, var_data = var_data, min_area_cons = min_area_cons, max_area_cons = max_area_cons)\n",
    "list(map(add_area_partial, district_list, crop_list))\n",
    "# ending time\n",
    "end = time.time()\n",
    "print(f\"Runtime of the field constraint registration is {(end - start) / 60} mins\")"
   ],
   "cell_type": "code",
   "metadata": {},
   "execution_count": null,
   "outputs": []
  },
  {
   "cell_type": "code",
   "execution_count": 12,
   "metadata": {
    "tags": []
   },
   "outputs": [],
   "source": [
    "# Get District & Crop Name List\n",
    "district_list = list(var_data.DistrictId.unique())\n",
    "crop_list = list(var_data.CropName.unique())\n",
    "\n",
    "# Set constraints for each district at Min & Max\n",
    "for district in district_list:\n",
    "    sub_min_data = min_area_cons[(min_area_cons['CityId'] == 1) & (min_area_cons['DistrictId'] == district)]\n",
    "    sub_max_data = max_area_cons[(max_area_cons['CityId'] == 1) & (max_area_cons['DistrictId'] == district)]\n",
    "    for crop in crop_list:\n",
    "        sub_crop_data = var_data[var_data['CropName'] == crop]\n",
    "        min_area = sub_min_data[str('Min' + crop + 'Area')]\n",
    "        max_area = sub_max_data[str('Max' + crop + 'Area')]\n",
    "        prob += pulp.lpSum(sub_crop_data['VarName'] * sub_crop_data['FieldArea']) >= min_area\n",
    "        prob += pulp.lpSum(sub_crop_data['VarName'] * sub_crop_data['FieldArea']) <= max_area"
   ]
  },
  {
   "source": [
    "### RUN PROGRAM"
   ],
   "cell_type": "markdown",
   "metadata": {}
  },
  {
   "cell_type": "code",
   "execution_count": 22,
   "metadata": {},
   "outputs": [
    {
     "output_type": "execute_result",
     "data": {
      "text/plain": [
       "['PULP_CBC_CMD', 'PULP_CHOCO_CMD']"
      ]
     },
     "metadata": {},
     "execution_count": 22
    }
   ],
   "source": [
    "listSolvers(onlyAvailable=True)"
   ]
  },
  {
   "cell_type": "code",
   "execution_count": 23,
   "metadata": {},
   "outputs": [],
   "source": [
    "solver = getSolver('PULP_CBC_CMD', timeLimit=200)"
   ]
  },
  {
   "cell_type": "code",
   "execution_count": 24,
   "metadata": {},
   "outputs": [
    {
     "output_type": "stream",
     "name": "stdout",
     "text": [
      "Status: Optimal\nOptimal Solution to the problem:  3071560.608431639\nCPU times: user 28.7 ms, sys: 8.01 ms, total: 36.7 ms\nWall time: 81.4 ms\n"
     ]
    }
   ],
   "source": [
    "%%time\n",
    "# now run optimization\n",
    "optimization_result = prob.solve(solver)\n",
    "print(\"Status:\", LpStatus[prob.status])\n",
    "print(\"Optimal Solution to the problem: \", value(prob.objective))"
   ]
  },
  {
   "source": [
    "### WRITE RESULTS"
   ],
   "cell_type": "markdown",
   "metadata": {}
  },
  {
   "cell_type": "code",
   "execution_count": null,
   "metadata": {},
   "outputs": [],
   "source": [
    "var_data['VarValue'] = var_data['VarName'].apply(lambda x: x.varValue)\n",
    "var_data.head(17)"
   ]
  },
  {
   "cell_type": "code",
   "execution_count": null,
   "metadata": {},
   "outputs": [],
   "source": [
    "var_data.to_csv(\"./results/scenario-1/doktar-opt-v01.csv\", encoding = \"utf-8-sig\", index = False)"
   ]
  },
  {
   "source": [
    "### TESTING CODE"
   ],
   "cell_type": "markdown",
   "metadata": {}
  },
  {
   "cell_type": "code",
   "execution_count": null,
   "metadata": {},
   "outputs": [],
   "source": [
    "import glob\n",
    "import re\n",
    "input_c_path = \"/home/ziya/Desktop/PROCESS/Optimization/scenarios/scenario-1/variable-coefficients/input/city/\"\n",
    "input_d_path = \"/home/ziya/Desktop/PROCESS/Optimization/scenarios/scenario-1/variable-coefficients/input/district/\"\n",
    "# Listing files\n",
    "input_c_list = glob.glob(input_c_path + '*.csv')\n",
    "input_c_name_list = list(map(lambda name: name.split(\"/\")[-1], input_c_list))\n",
    "id_list = list(map(lambda file_name: re.findall(r'(\\d+)', file_name), input_c_name_list))\n",
    "flat_id_list = [item for sublist in id_list for item in sublist]\n",
    "\n",
    "# Get iteration lists\n",
    "city_id_list = list(map(int, flat_id_list))\n",
    "\n",
    "print(city_id_list)\n",
    "\n",
    "# Listing files\n",
    "input_d_list = glob.glob(input_d_path + 'DoktarVariableInput_' + str(city_id_list[0]) + '*.csv')\n",
    "input_d_name_list = list(map(lambda name: name.split(\"_\")[-1].split(r\".\")[0], input_d_list))\n",
    "input_d_name_list\n",
    "id_list = list(map(lambda name: name.rsplit(\"_\", -1), input_d_name_list))\n",
    "flat_id_list = [item for sublist in id_list for item in sublist]\n",
    "\n",
    "# Get iteration lists\n",
    "district_id_list = list(map(int, flat_id_list))\n",
    "district_id_list"
   ]
  },
  {
   "cell_type": "code",
   "execution_count": null,
   "metadata": {},
   "outputs": [],
   "source": [
    "# Slicing Lists\n",
    "import numpy as np\n",
    "input_list = [1, 2, 3, 4, 5, 6, 7, 8, 9, 10, 11, 12, 13, 14, 15, 16, 17, 18, 19, 20]\n",
    "input_list = np.array(input_list)\n",
    "input_list = np.array_split(input_list, 5)\n",
    "input_list = [l.tolist() for l in input_list]\n",
    "input_list"
   ]
  },
  {
   "source": [
    "### PREPROCESSING"
   ],
   "cell_type": "markdown",
   "metadata": {}
  },
  {
   "cell_type": "code",
   "execution_count": null,
   "metadata": {},
   "outputs": [],
   "source": [
    "import pandas as pd\n",
    "import os\n",
    "from functools import partial\n",
    "\n",
    "def add_columns(base_name, yield_path, price_path, cost_path, scenario_name):\n",
    "    \n",
    "    # Read Base Data\n",
    "    base_data = pd.read_csv(base_name, usecols=[\"CityId\", \"DistrictId\", \"FieldId\",\n",
    "    \"IrrigationId\", \"FieldArea\", \"WheatPercent\", \"BarleyPercent\", \"SunflowerPercent\",\n",
    "    \"RicePercent\", \"LentilPercent\", \"ChickpeaPercent\", \"CottonPercent\", \"SugarbeetPercent\",\n",
    "    \"SoybeanPercent\", \"PeanutPercent\", \"OatPercent\", \"PotatoPercent\", \"CornPercent\",\n",
    "    \"CanolaPercent\", \"OnionPercent\", \"BeanPercent\", \"TomatoPercent\"],\n",
    "    dtype={\"CityId\": \"uint8\", \"DistrictId\": \"uint16\", \"FieldId\": \"uint64\",\n",
    "    \"IrrigationId\": \"uint8\", \"FieldArea\": \"float32\"})\n",
    "    \n",
    "    # Add Yield Columns\n",
    "    yield_data = pd.read_csv(yield_path + \"DoktarVariableYield_\" + scenario_name + \".csv\", encoding=\"latin-1\",\n",
    "    dtype={\"CityId\": \"uint8\", \"DistrictId\": \"uint16\"})\n",
    "    base_data = pd.merge(base_data, yield_data, on = 'DistrictId', how = 'left', suffixes = ('', '_extra'))\n",
    "    base_data = base_data[base_data.columns.drop(list(base_data.filter(regex='_extra')))]\n",
    "    \n",
    "    # Add Price Columns\n",
    "    price_data = pd.read_csv(price_path + \"DoktarVariablePrice_\" + scenario_name + \".csv\", encoding = \"latin-1\",\n",
    "    dtype={\"CityId\": \"uint8\", \"DistrictId\": \"uint16\"})\n",
    "    base_data = pd.merge(base_data, price_data, on = 'DistrictId', how = 'left', suffixes = ('', '_extra'))\n",
    "    base_data = base_data[base_data.columns.drop(list(base_data.filter(regex='_extra')))]\n",
    "\n",
    "    # Add Cost Columns\n",
    "    cost_data = pd.read_csv(cost_path + \"DoktarVariableCost_\" + scenario_name + \".csv\", encoding = \"latin-1\",\n",
    "    dtype={\"CityId\": \"uint8\", \"DistrictId\": \"uint16\", \"IrrigationId\": \"uint8\"})\n",
    "    base_data = pd.merge(base_data, cost_data, on = ['DistrictId', 'IrrigationId'], how = 'left', suffixes = ('', '_extra'))\n",
    "    base_data= base_data[base_data.columns.drop(list(base_data.filter(regex='_extra')))]\n",
    "    \n",
    "    return base_data\n",
    "\n",
    "\n",
    "def wide_to_long(crop_name, base_data):\n",
    "    main_columns = ['CityId', 'DistrictId', 'FieldId', \"IrrigationId\", 'FieldArea']\n",
    "    crop_columns = list(base_data.filter(regex=(crop_name)).columns)\n",
    "    base_data = base_data.filter(main_columns + crop_columns)\n",
    "    base_data = base_data.rename(columns={crop_name + 'Percent': 'Percent', crop_name + 'Yield': 'Yield', crop_name + 'Price': 'Price', crop_name + 'Cost': 'Cost'})\n",
    "    base_data['CropName'] = crop_name\n",
    "\n",
    "    return base_data\n",
    "\n",
    "\n",
    "def wtl_map(base_data):\n",
    "    crop_list = ['Wheat', 'Barley', 'Oat',\n",
    "    'Cotton', 'Soybean', 'Tomato',\n",
    "    'Canola', 'Potato', 'Sugarbeet',\n",
    "    'Onion', 'Bean', 'Lentil', 'Chickpea',\n",
    "    'Peanut', 'Rice', 'Corn', 'Sunflower']\n",
    "\n",
    "    # Partial wide_to_long Function\n",
    "    wide_func = partial(wide_to_long, base_data = base_data)\n",
    "    # Map to each Crop\n",
    "    long_list = list(map(wide_func, crop_list))\n",
    "    long_data = pd.concat(long_list)\n",
    "\n",
    "    return long_data\n",
    "\n",
    "\n",
    "def add_coef(base_data, target = \"Profit\"):\n",
    "    if target == \"Profit\":\n",
    "        base_data['Coef'] = base_data['FieldArea'] * 10 * base_data['Percent'] * base_data['Yield'] * base_data['Price'] - base_data['FieldArea'] * 10 * base_data['Cost']\n",
    "        return(base_data)\n",
    "    elif target == \"Physical\":\n",
    "        base_data['Coef'] = base_data.eval('Percent')\n",
    "        return(base_data)\n",
    "    else:\n",
    "        print(\"Hayat kısa, kuşlar uçuyor...\")\n",
    "\n",
    "\n",
    "def write_input_d(city_id, city_data, input_path):\n",
    "    for district_id in city_data.DistrictId.unique():\n",
    "        district_data = city_data[city_data['DistrictId'] == district_id]\n",
    "        district_data.to_csv(input_path + \"DoktarVariableInput_\" + str(city_id) + \"_\" + str(district_id) + \".csv\",\n",
    "        encoding = \"utf-8-sig\",\n",
    "        index = False)\n",
    "\n",
    "\n",
    "def write_input_c(city_id, city_data, input_path):\n",
    "    city_data.to_csv(input_path + \"DoktarVariableInput_\" + str(city_id) + \".csv\",\n",
    "    encoding = \"utf-8-sig\",\n",
    "    index = False)\n",
    "\n",
    "\n",
    "def do_preprocess(base_name, city_id, yield_path, price_path, cost_path, scenario_name, target, input_c_path, input_d_path):\n",
    "    \n",
    "    # Create base_data add columns\n",
    "    base_data = add_columns(base_name = base_name, yield_path = yield_path, price_path = price_path, cost_path = cost_path, scenario_name = scenario_name)\n",
    "    # Wide to Long\n",
    "    base_data = wtl_map(base_data = base_data)\n",
    "    # Add Coefs\n",
    "    base_data = add_coef(base_data = base_data, target = target)\n",
    "    # Write Cities\n",
    "    write_input_c(city_id = city_id, city_data = base_data, input_path = input_c_path)\n",
    "    write_input_d(city_id = city_id, city_data = base_data, input_path = input_d_path)\n",
    "\n",
    "    del(base_data)"
   ]
  },
  {
   "cell_type": "code",
   "execution_count": null,
   "metadata": {},
   "outputs": [],
   "source": [
    "# File paths\n",
    "main_path = \"/home/ziya/Desktop/PROCESS/Optimization/scenarios\"\n",
    "base_path = './variable-coefficients/base/'\n",
    "input_c_path = './variable-coefficients/input/city/'\n",
    "input_d_path = './variable-coefficients/input/district/'\n",
    "price_path = './variable-coefficients/price/'\n",
    "yield_path = './variable-coefficients/yield/'\n",
    "cost_path = './variable-coefficients/cost/'"
   ]
  },
  {
   "cell_type": "code",
   "execution_count": null,
   "metadata": {},
   "outputs": [],
   "source": [
    "scenario_list = ['scenario-2']\n",
    "coef_list = ['Physical']\n",
    "\n",
    "scenario_name = 'scenario-2'\n",
    "\n",
    "# Scenario Dict\n",
    "sc_dict = {scenario_list[i]: coef_list[i] for i in range(len(scenario_list))}\n",
    "# Scenario Specification\n",
    "scenario_path = main_path + \"/\" + scenario_name\n",
    "# Set scenario path\n",
    "os.chdir(scenario_path)\n",
    "\n",
    "# base list prepreation\n",
    "base_list = glob.glob(base_path + '*.csv')\n",
    "base_name_list = list(map(lambda name: name.split(\"/\")[-1], base_list))\n",
    "id_list = list(map(lambda file_name: re.findall(r'(\\d+)', file_name), base_name_list))\n",
    "flat_id_list = [item for sublist in id_list for item in sublist]\n",
    "\n",
    "# Get iteration lists\n",
    "city_id_list = list(map(int, flat_id_list))\n",
    "\n",
    "# Set first iter\n",
    "base_name = base_list[0]\n",
    "city_id = city_id_list[0]\n",
    "\n",
    "# Create base_data add columns\n",
    "base_data = add_columns(base_name = base_name, yield_path = yield_path, price_path = price_path, cost_path = cost_path, scenario_name = scenario_name)\n",
    "\n",
    "base_data = wtl_map(base_data)\n",
    "base_data = add_coef(base_data, target = sc_dict.get(scenario_name))\n",
    "for district_id in base_data.DistrictId.unique():\n",
    "    print(district_id)"
   ]
  },
  {
   "cell_type": "code",
   "execution_count": null,
   "metadata": {},
   "outputs": [],
   "source": [
    "type(float(10))"
   ]
  }
 ]
}