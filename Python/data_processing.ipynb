{
 "metadata": {
  "language_info": {
   "codemirror_mode": {
    "name": "ipython",
    "version": 3
   },
   "file_extension": ".py",
   "mimetype": "text/x-python",
   "name": "python",
   "nbconvert_exporter": "python",
   "pygments_lexer": "ipython3",
   "version": "3.7.4-final"
  },
  "orig_nbformat": 2,
  "kernelspec": {
   "name": "python3",
   "display_name": "Python 3",
   "language": "python"
  }
 },
 "nbformat": 4,
 "nbformat_minor": 2,
 "cells": [
  {
   "cell_type": "code",
   "execution_count": 2,
   "metadata": {},
   "outputs": [
    {
     "output_type": "execute_result",
     "data": {
      "text/plain": [
       "   CityId  TARGET_FID  FieldId CityName DistrictName   CropName  Coef  \\\n",
       "0       1         225        1    ADANA       ALADAĞ      Wheat  7.50   \n",
       "1       1         225        1    ADANA       ALADAĞ     Barley  0.00   \n",
       "2       1         225        1    ADANA       ALADAĞ  Sunflower  1.49   \n",
       "3       1         225        1    ADANA       ALADAĞ       Rice  0.26   \n",
       "4       1         225        1    ADANA       ALADAĞ     Lentil  3.35   \n",
       "\n",
       "   FieldArea  \n",
       "0      26.53  \n",
       "1      26.53  \n",
       "2      26.53  \n",
       "3      26.53  \n",
       "4      26.53  "
      ],
      "text/html": "<div>\n<style scoped>\n    .dataframe tbody tr th:only-of-type {\n        vertical-align: middle;\n    }\n\n    .dataframe tbody tr th {\n        vertical-align: top;\n    }\n\n    .dataframe thead th {\n        text-align: right;\n    }\n</style>\n<table border=\"1\" class=\"dataframe\">\n  <thead>\n    <tr style=\"text-align: right;\">\n      <th></th>\n      <th>CityId</th>\n      <th>TARGET_FID</th>\n      <th>FieldId</th>\n      <th>CityName</th>\n      <th>DistrictName</th>\n      <th>CropName</th>\n      <th>Coef</th>\n      <th>FieldArea</th>\n    </tr>\n  </thead>\n  <tbody>\n    <tr>\n      <th>0</th>\n      <td>1</td>\n      <td>225</td>\n      <td>1</td>\n      <td>ADANA</td>\n      <td>ALADAĞ</td>\n      <td>Wheat</td>\n      <td>7.50</td>\n      <td>26.53</td>\n    </tr>\n    <tr>\n      <th>1</th>\n      <td>1</td>\n      <td>225</td>\n      <td>1</td>\n      <td>ADANA</td>\n      <td>ALADAĞ</td>\n      <td>Barley</td>\n      <td>0.00</td>\n      <td>26.53</td>\n    </tr>\n    <tr>\n      <th>2</th>\n      <td>1</td>\n      <td>225</td>\n      <td>1</td>\n      <td>ADANA</td>\n      <td>ALADAĞ</td>\n      <td>Sunflower</td>\n      <td>1.49</td>\n      <td>26.53</td>\n    </tr>\n    <tr>\n      <th>3</th>\n      <td>1</td>\n      <td>225</td>\n      <td>1</td>\n      <td>ADANA</td>\n      <td>ALADAĞ</td>\n      <td>Rice</td>\n      <td>0.26</td>\n      <td>26.53</td>\n    </tr>\n    <tr>\n      <th>4</th>\n      <td>1</td>\n      <td>225</td>\n      <td>1</td>\n      <td>ADANA</td>\n      <td>ALADAĞ</td>\n      <td>Lentil</td>\n      <td>3.35</td>\n      <td>26.53</td>\n    </tr>\n  </tbody>\n</table>\n</div>"
     },
     "metadata": {},
     "execution_count": 2
    }
   ],
   "source": [
    "import pandas as pd\n",
    "\n",
    "main_data = pd.read_csv(\"./variable-coefficients/DoktarCropRevenueCoeff.csv\")\n",
    "main_data.head()"
   ]
  },
  {
   "cell_type": "code",
   "execution_count": 5,
   "metadata": {},
   "outputs": [],
   "source": [
    "# split data\n",
    "for city in main_data.CityId.unique():\n",
    "    data = main_data[main_data['CityId'] == city]\n",
    "    data.to_csv('./variable-coefficients/revenue/DoktarCropRevenueCoeff_' + str(city) + '.csv',\n",
    "    encoding = 'utf-8-sig',\n",
    "    index = False)"
   ]
  },
  {
   "cell_type": "code",
   "execution_count": 8,
   "metadata": {},
   "outputs": [
    {
     "output_type": "execute_result",
     "data": {
      "text/plain": [
       "['.', 'variable-coefficients', 'revenue', 'DoktarCropRevenueCoeff_33.csv']"
      ]
     },
     "metadata": {},
     "execution_count": 8
    }
   ],
   "source": [
    "import os\n",
    "import glob\n",
    "from functools import partial\n",
    "import re\n",
    "import pandas as pd\n",
    "\n",
    "# File paths\n",
    "main_path = \"/home/ziya/Desktop/gitHub/doktar-opt/ExampleLPPProgram\"\n",
    "variable_path = './variable-coefficients/revenue/'\n",
    "\n",
    "# Set main path\n",
    "os.chdir(main_path)\n",
    "\n",
    "# base list prepreation\n",
    "var_file_list = glob.glob(variable_path + '*.csv')\n",
    "\n",
    "var_name_list = list(map(lambda name: name.split(\"/\")[-1], var_file_list))\n",
    "id_list = list(map(lambda file_name: re.findall(r'(\\d+)', file_name), var_name_list))\n",
    "flat_id_list = [item for sublist in id_list for item in sublist]\n",
    "\n",
    "# prepare partial read csv function\n",
    "read_func = partial(pd.read_csv, encoding = 'utf-8')\n",
    "    \n",
    "# get iteration lists\n",
    "city_id_list = list(map(int, flat_id_list))\n",
    "city_data_list = list(map(read_func, var_file_list))\n",
    "\n",
    "var_file_list[0].split(\"/\")"
   ]
  }
 ]
}