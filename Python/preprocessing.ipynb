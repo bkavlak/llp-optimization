{
 "metadata": {
  "language_info": {
   "codemirror_mode": {
    "name": "ipython",
    "version": 3
   },
   "file_extension": ".py",
   "mimetype": "text/x-python",
   "name": "python",
   "nbconvert_exporter": "python",
   "pygments_lexer": "ipython3",
   "version": "3.8.8-final"
  },
  "orig_nbformat": 2,
  "kernelspec": {
   "name": "python3",
   "display_name": "Python 3.8.8 64-bit",
   "metadata": {
    "interpreter": {
     "hash": "8c0c8ec560ba635387f6ac8d22803265d889fa0f117e1a4cf4daadfd22114976"
    }
   }
  }
 },
 "nbformat": 4,
 "nbformat_minor": 2,
 "cells": [
  {
   "cell_type": "code",
   "execution_count": 28,
   "metadata": {},
   "outputs": [],
   "source": [
    "import pandas as pd\n",
    "import pulp\n",
    "import os\n",
    "from functools import partial"
   ]
  },
  {
   "cell_type": "code",
   "execution_count": 29,
   "metadata": {},
   "outputs": [],
   "source": [
    "os.chdir(\"C:/Users/batuh/Documents/GitHub/doktar-opt/ExampleLPPProgram/scenarios/scenario-1\")"
   ]
  },
  {
   "cell_type": "code",
   "execution_count": 30,
   "metadata": {},
   "outputs": [
    {
     "output_type": "stream",
     "name": "stdout",
     "text": [
      "   CityId  DistrictId  IrrigationId  FieldId CityName DistrictName  FieldArea  \\\n0      81         846             1  2068001    DUZCE      GOLYAKA   0.277168   \n1      81         854             0  2068002    DUZCE     KAYNASLI   0.439520   \n2      81         863             1  2068003    DUZCE     GUMUSOVA   0.427013   \n3      81         888             0  2068004    DUZCE      CILIMLI   0.274361   \n4      81         901             1  2068005    DUZCE     CUMAYERI   0.694518   \n\n                                            geometry  WheatPercent  \\\n0  MULTIPOLYGON (((30.91682406996663 40.728429080...          1.15   \n1  MULTIPOLYGON (((30.91685332263513 40.727393715...          1.05   \n2  MULTIPOLYGON (((30.9195760769791 40.7293344734...          1.15   \n3  MULTIPOLYGON (((30.98546681716249 40.736468600...          1.05   \n4  MULTIPOLYGON (((30.93162598297895 40.645469781...          1.09   \n\n   BarleyPercent  ...  SugarbeetPercent  SoybeanPercent  PeanutPercent  \\\n0           1.15  ...              1.00            0.80           0.76   \n1           1.05  ...              1.00            0.80           0.76   \n2           1.15  ...              1.00            0.80           0.76   \n3           1.05  ...              1.00            0.80           0.76   \n4           1.09  ...              0.94            0.81           0.44   \n\n   OatPercent  PotatoPercent  CornPercent  CanolaPercent  OnionPercent  \\\n0        0.98            0.8         0.80           0.85          1.00   \n1        0.88            0.8         0.80           0.85          1.00   \n2        0.98            0.8         0.80           0.85          1.00   \n3        0.88            0.8         0.80           0.85          1.00   \n4        0.91            0.9         0.88           0.79          0.94   \n\n   BeanPercent  TomatoPercent  \n0         0.75            0.9  \n1         0.75            0.9  \n2         0.75            0.9  \n3         0.75            0.9  \n4         0.84            1.0  \n\n[5 rows x 25 columns]\n6674\n25\n"
     ]
    }
   ],
   "source": [
    "base_data = pd.read_csv(\"./variable-coefficients/base/DoktarVariableBase_81.csv\")\n",
    "print(base_data.head(5))\n",
    "print(base_data.shape[0])\n",
    "print(base_data.shape[1])\n"
   ]
  },
  {
   "cell_type": "code",
   "execution_count": 31,
   "metadata": {},
   "outputs": [
    {
     "output_type": "execute_result",
     "data": {
      "text/plain": [
       "   CityId  DistrictId CityName DistrictName  WheatYield  BarleyYield  \\\n",
       "0      31          15    HATAY    YAYLADA?I         292          265   \n",
       "1      31          17    HATAY     ALTIN�Z�         292          265   \n",
       "2      31          20    HATAY        DEFNE         292          265   \n",
       "3      33          25   MERS?N     AYDINCIK         292          265   \n",
       "4      31          26    HATAY     SAMANDA?         292          265   \n",
       "\n",
       "   OatYield  CottonYield  SoybeanYield  TomatoYield  ...  PotatoYield  \\\n",
       "0       278          494           442         7244  ...         3514   \n",
       "1       278          494           442         7244  ...         3514   \n",
       "2       278          494           442         7244  ...         3514   \n",
       "3       278          494           442         7244  ...         3514   \n",
       "4       278          494           442         7244  ...         3514   \n",
       "\n",
       "   SugarbeetYield  OnionYield  BeanYield  LentilYield  ChickpeaYield  \\\n",
       "0            6846        3329        271          157            123   \n",
       "1            6846        3329        271          157            123   \n",
       "2            6846        3329        271          157            123   \n",
       "3            6846        3329        271          157            123   \n",
       "4            6846        3329        271          157            123   \n",
       "\n",
       "   PeanutYield  RiceYield  CornYield  SunflowerYield  \n",
       "0          394        782        941             292  \n",
       "1          394        782        941             292  \n",
       "2          394        782        941             292  \n",
       "3          394        782        941             292  \n",
       "4          394        782        941             292  \n",
       "\n",
       "[5 rows x 21 columns]"
      ],
      "text/html": "<div>\n<style scoped>\n    .dataframe tbody tr th:only-of-type {\n        vertical-align: middle;\n    }\n\n    .dataframe tbody tr th {\n        vertical-align: top;\n    }\n\n    .dataframe thead th {\n        text-align: right;\n    }\n</style>\n<table border=\"1\" class=\"dataframe\">\n  <thead>\n    <tr style=\"text-align: right;\">\n      <th></th>\n      <th>CityId</th>\n      <th>DistrictId</th>\n      <th>CityName</th>\n      <th>DistrictName</th>\n      <th>WheatYield</th>\n      <th>BarleyYield</th>\n      <th>OatYield</th>\n      <th>CottonYield</th>\n      <th>SoybeanYield</th>\n      <th>TomatoYield</th>\n      <th>...</th>\n      <th>PotatoYield</th>\n      <th>SugarbeetYield</th>\n      <th>OnionYield</th>\n      <th>BeanYield</th>\n      <th>LentilYield</th>\n      <th>ChickpeaYield</th>\n      <th>PeanutYield</th>\n      <th>RiceYield</th>\n      <th>CornYield</th>\n      <th>SunflowerYield</th>\n    </tr>\n  </thead>\n  <tbody>\n    <tr>\n      <th>0</th>\n      <td>31</td>\n      <td>15</td>\n      <td>HATAY</td>\n      <td>YAYLADA?I</td>\n      <td>292</td>\n      <td>265</td>\n      <td>278</td>\n      <td>494</td>\n      <td>442</td>\n      <td>7244</td>\n      <td>...</td>\n      <td>3514</td>\n      <td>6846</td>\n      <td>3329</td>\n      <td>271</td>\n      <td>157</td>\n      <td>123</td>\n      <td>394</td>\n      <td>782</td>\n      <td>941</td>\n      <td>292</td>\n    </tr>\n    <tr>\n      <th>1</th>\n      <td>31</td>\n      <td>17</td>\n      <td>HATAY</td>\n      <td>ALTIN�Z�</td>\n      <td>292</td>\n      <td>265</td>\n      <td>278</td>\n      <td>494</td>\n      <td>442</td>\n      <td>7244</td>\n      <td>...</td>\n      <td>3514</td>\n      <td>6846</td>\n      <td>3329</td>\n      <td>271</td>\n      <td>157</td>\n      <td>123</td>\n      <td>394</td>\n      <td>782</td>\n      <td>941</td>\n      <td>292</td>\n    </tr>\n    <tr>\n      <th>2</th>\n      <td>31</td>\n      <td>20</td>\n      <td>HATAY</td>\n      <td>DEFNE</td>\n      <td>292</td>\n      <td>265</td>\n      <td>278</td>\n      <td>494</td>\n      <td>442</td>\n      <td>7244</td>\n      <td>...</td>\n      <td>3514</td>\n      <td>6846</td>\n      <td>3329</td>\n      <td>271</td>\n      <td>157</td>\n      <td>123</td>\n      <td>394</td>\n      <td>782</td>\n      <td>941</td>\n      <td>292</td>\n    </tr>\n    <tr>\n      <th>3</th>\n      <td>33</td>\n      <td>25</td>\n      <td>MERS?N</td>\n      <td>AYDINCIK</td>\n      <td>292</td>\n      <td>265</td>\n      <td>278</td>\n      <td>494</td>\n      <td>442</td>\n      <td>7244</td>\n      <td>...</td>\n      <td>3514</td>\n      <td>6846</td>\n      <td>3329</td>\n      <td>271</td>\n      <td>157</td>\n      <td>123</td>\n      <td>394</td>\n      <td>782</td>\n      <td>941</td>\n      <td>292</td>\n    </tr>\n    <tr>\n      <th>4</th>\n      <td>31</td>\n      <td>26</td>\n      <td>HATAY</td>\n      <td>SAMANDA?</td>\n      <td>292</td>\n      <td>265</td>\n      <td>278</td>\n      <td>494</td>\n      <td>442</td>\n      <td>7244</td>\n      <td>...</td>\n      <td>3514</td>\n      <td>6846</td>\n      <td>3329</td>\n      <td>271</td>\n      <td>157</td>\n      <td>123</td>\n      <td>394</td>\n      <td>782</td>\n      <td>941</td>\n      <td>292</td>\n    </tr>\n  </tbody>\n</table>\n<p>5 rows × 21 columns</p>\n</div>"
     },
     "metadata": {},
     "execution_count": 31
    }
   ],
   "source": [
    "yield_data = pd.read_csv(\"./variable-coefficients/yield/DoktarVariableYield_scenario-1.csv\")\n",
    "yield_data.head(5)"
   ]
  },
  {
   "cell_type": "code",
   "execution_count": 32,
   "metadata": {},
   "outputs": [
    {
     "output_type": "execute_result",
     "data": {
      "text/plain": [
       "   CityId  DistrictId CityName DistrictName  WheatPrice  BarleyPrice  \\\n",
       "0      31          15    HATAY    YAYLADA?I        2.06         1.62   \n",
       "1      31          15    HATAY    YAYLADA?I        2.06         1.62   \n",
       "2      31          17    HATAY     ALTIN�Z�        2.06         1.62   \n",
       "3      31          20    HATAY        DEFNE        2.06         1.62   \n",
       "4      33          25   MERS?N     AYDINCIK        2.06         1.62   \n",
       "\n",
       "   OatPrice  CottonPrice  SoybeanPrice  TomatoPrice  ...  PotatoPrice  \\\n",
       "0       2.1         9.59          2.18         0.55  ...          1.5   \n",
       "1       2.1         9.59          2.18         0.55  ...          1.5   \n",
       "2       2.1         9.59          2.18         0.55  ...          1.5   \n",
       "3       2.1         9.59          2.18         0.55  ...          1.5   \n",
       "4       2.1         9.59          2.18         0.55  ...          1.5   \n",
       "\n",
       "   SugarbeetPrice  OnionPrice  BeanPrice  LentilPrice  ChickpeaPrice  \\\n",
       "0            0.32         2.8       7.98         4.85            4.9   \n",
       "1            0.32         2.8       7.98         4.85            4.9   \n",
       "2            0.32         2.8       7.98         4.85            4.9   \n",
       "3            0.32         2.8       7.98         4.85            4.9   \n",
       "4            0.32         2.8       7.98         4.85            4.9   \n",
       "\n",
       "   PeanutPrice  RicePrice  CornPrice  SunflowerPrice  \n",
       "0         10.4        4.4        1.4            6.11  \n",
       "1         10.4        4.4        1.4            6.11  \n",
       "2         10.4        4.4        1.4            6.11  \n",
       "3         10.4        4.4        1.4            6.11  \n",
       "4         10.4        4.4        1.4            6.11  \n",
       "\n",
       "[5 rows x 21 columns]"
      ],
      "text/html": "<div>\n<style scoped>\n    .dataframe tbody tr th:only-of-type {\n        vertical-align: middle;\n    }\n\n    .dataframe tbody tr th {\n        vertical-align: top;\n    }\n\n    .dataframe thead th {\n        text-align: right;\n    }\n</style>\n<table border=\"1\" class=\"dataframe\">\n  <thead>\n    <tr style=\"text-align: right;\">\n      <th></th>\n      <th>CityId</th>\n      <th>DistrictId</th>\n      <th>CityName</th>\n      <th>DistrictName</th>\n      <th>WheatPrice</th>\n      <th>BarleyPrice</th>\n      <th>OatPrice</th>\n      <th>CottonPrice</th>\n      <th>SoybeanPrice</th>\n      <th>TomatoPrice</th>\n      <th>...</th>\n      <th>PotatoPrice</th>\n      <th>SugarbeetPrice</th>\n      <th>OnionPrice</th>\n      <th>BeanPrice</th>\n      <th>LentilPrice</th>\n      <th>ChickpeaPrice</th>\n      <th>PeanutPrice</th>\n      <th>RicePrice</th>\n      <th>CornPrice</th>\n      <th>SunflowerPrice</th>\n    </tr>\n  </thead>\n  <tbody>\n    <tr>\n      <th>0</th>\n      <td>31</td>\n      <td>15</td>\n      <td>HATAY</td>\n      <td>YAYLADA?I</td>\n      <td>2.06</td>\n      <td>1.62</td>\n      <td>2.1</td>\n      <td>9.59</td>\n      <td>2.18</td>\n      <td>0.55</td>\n      <td>...</td>\n      <td>1.5</td>\n      <td>0.32</td>\n      <td>2.8</td>\n      <td>7.98</td>\n      <td>4.85</td>\n      <td>4.9</td>\n      <td>10.4</td>\n      <td>4.4</td>\n      <td>1.4</td>\n      <td>6.11</td>\n    </tr>\n    <tr>\n      <th>1</th>\n      <td>31</td>\n      <td>15</td>\n      <td>HATAY</td>\n      <td>YAYLADA?I</td>\n      <td>2.06</td>\n      <td>1.62</td>\n      <td>2.1</td>\n      <td>9.59</td>\n      <td>2.18</td>\n      <td>0.55</td>\n      <td>...</td>\n      <td>1.5</td>\n      <td>0.32</td>\n      <td>2.8</td>\n      <td>7.98</td>\n      <td>4.85</td>\n      <td>4.9</td>\n      <td>10.4</td>\n      <td>4.4</td>\n      <td>1.4</td>\n      <td>6.11</td>\n    </tr>\n    <tr>\n      <th>2</th>\n      <td>31</td>\n      <td>17</td>\n      <td>HATAY</td>\n      <td>ALTIN�Z�</td>\n      <td>2.06</td>\n      <td>1.62</td>\n      <td>2.1</td>\n      <td>9.59</td>\n      <td>2.18</td>\n      <td>0.55</td>\n      <td>...</td>\n      <td>1.5</td>\n      <td>0.32</td>\n      <td>2.8</td>\n      <td>7.98</td>\n      <td>4.85</td>\n      <td>4.9</td>\n      <td>10.4</td>\n      <td>4.4</td>\n      <td>1.4</td>\n      <td>6.11</td>\n    </tr>\n    <tr>\n      <th>3</th>\n      <td>31</td>\n      <td>20</td>\n      <td>HATAY</td>\n      <td>DEFNE</td>\n      <td>2.06</td>\n      <td>1.62</td>\n      <td>2.1</td>\n      <td>9.59</td>\n      <td>2.18</td>\n      <td>0.55</td>\n      <td>...</td>\n      <td>1.5</td>\n      <td>0.32</td>\n      <td>2.8</td>\n      <td>7.98</td>\n      <td>4.85</td>\n      <td>4.9</td>\n      <td>10.4</td>\n      <td>4.4</td>\n      <td>1.4</td>\n      <td>6.11</td>\n    </tr>\n    <tr>\n      <th>4</th>\n      <td>33</td>\n      <td>25</td>\n      <td>MERS?N</td>\n      <td>AYDINCIK</td>\n      <td>2.06</td>\n      <td>1.62</td>\n      <td>2.1</td>\n      <td>9.59</td>\n      <td>2.18</td>\n      <td>0.55</td>\n      <td>...</td>\n      <td>1.5</td>\n      <td>0.32</td>\n      <td>2.8</td>\n      <td>7.98</td>\n      <td>4.85</td>\n      <td>4.9</td>\n      <td>10.4</td>\n      <td>4.4</td>\n      <td>1.4</td>\n      <td>6.11</td>\n    </tr>\n  </tbody>\n</table>\n<p>5 rows × 21 columns</p>\n</div>"
     },
     "metadata": {},
     "execution_count": 32
    }
   ],
   "source": [
    "price_data = pd.read_csv(\"./variable-coefficients/price/DoktarVariablePrice_scenario-1.csv\")\n",
    "price_data.head(5)"
   ]
  },
  {
   "cell_type": "code",
   "execution_count": 33,
   "metadata": {},
   "outputs": [
    {
     "output_type": "execute_result",
     "data": {
      "text/plain": [
       "   CityId  DistrictId  IrrigationId CityName DistrictName  WheatCost  \\\n",
       "0      31          15             1    HATAY    YAYLADA?I        798   \n",
       "1      31          15             1    HATAY    YAYLADA?I        798   \n",
       "2      31          17             1    HATAY     ALTIN�Z�        798   \n",
       "3      31          20             1    HATAY        DEFNE        798   \n",
       "4      33          25             1   MERS?N     AYDINCIK        798   \n",
       "\n",
       "   BarleyCost  OatCost  CottonCost  SoybeanCost  ...  PotatoCost  \\\n",
       "0         773      763        1823         1268  ...        3656   \n",
       "1         773      763        1823         1268  ...        3656   \n",
       "2         773      763        1823         1268  ...        3656   \n",
       "3         773      763        1823         1268  ...        3656   \n",
       "4         773      763        1823         1268  ...        3656   \n",
       "\n",
       "   SugarbeetCost  OnionCost  BeanCost  LentilCost  ChickpeaCost  PeanutCost  \\\n",
       "0           1879       3378      1302         616           597        2495   \n",
       "1           1879       3378      1302         616           597        2495   \n",
       "2           1879       3378      1302         616           597        2495   \n",
       "3           1879       3378      1302         616           597        2495   \n",
       "4           1879       3378      1302         616           597        2495   \n",
       "\n",
       "   RiceCost  CornCost  SunflowerCost  \n",
       "0      2593      1391            909  \n",
       "1      2593      1391            909  \n",
       "2      2593      1391            909  \n",
       "3      2593      1391            909  \n",
       "4      2593      1391            909  \n",
       "\n",
       "[5 rows x 22 columns]"
      ],
      "text/html": "<div>\n<style scoped>\n    .dataframe tbody tr th:only-of-type {\n        vertical-align: middle;\n    }\n\n    .dataframe tbody tr th {\n        vertical-align: top;\n    }\n\n    .dataframe thead th {\n        text-align: right;\n    }\n</style>\n<table border=\"1\" class=\"dataframe\">\n  <thead>\n    <tr style=\"text-align: right;\">\n      <th></th>\n      <th>CityId</th>\n      <th>DistrictId</th>\n      <th>IrrigationId</th>\n      <th>CityName</th>\n      <th>DistrictName</th>\n      <th>WheatCost</th>\n      <th>BarleyCost</th>\n      <th>OatCost</th>\n      <th>CottonCost</th>\n      <th>SoybeanCost</th>\n      <th>...</th>\n      <th>PotatoCost</th>\n      <th>SugarbeetCost</th>\n      <th>OnionCost</th>\n      <th>BeanCost</th>\n      <th>LentilCost</th>\n      <th>ChickpeaCost</th>\n      <th>PeanutCost</th>\n      <th>RiceCost</th>\n      <th>CornCost</th>\n      <th>SunflowerCost</th>\n    </tr>\n  </thead>\n  <tbody>\n    <tr>\n      <th>0</th>\n      <td>31</td>\n      <td>15</td>\n      <td>1</td>\n      <td>HATAY</td>\n      <td>YAYLADA?I</td>\n      <td>798</td>\n      <td>773</td>\n      <td>763</td>\n      <td>1823</td>\n      <td>1268</td>\n      <td>...</td>\n      <td>3656</td>\n      <td>1879</td>\n      <td>3378</td>\n      <td>1302</td>\n      <td>616</td>\n      <td>597</td>\n      <td>2495</td>\n      <td>2593</td>\n      <td>1391</td>\n      <td>909</td>\n    </tr>\n    <tr>\n      <th>1</th>\n      <td>31</td>\n      <td>15</td>\n      <td>1</td>\n      <td>HATAY</td>\n      <td>YAYLADA?I</td>\n      <td>798</td>\n      <td>773</td>\n      <td>763</td>\n      <td>1823</td>\n      <td>1268</td>\n      <td>...</td>\n      <td>3656</td>\n      <td>1879</td>\n      <td>3378</td>\n      <td>1302</td>\n      <td>616</td>\n      <td>597</td>\n      <td>2495</td>\n      <td>2593</td>\n      <td>1391</td>\n      <td>909</td>\n    </tr>\n    <tr>\n      <th>2</th>\n      <td>31</td>\n      <td>17</td>\n      <td>1</td>\n      <td>HATAY</td>\n      <td>ALTIN�Z�</td>\n      <td>798</td>\n      <td>773</td>\n      <td>763</td>\n      <td>1823</td>\n      <td>1268</td>\n      <td>...</td>\n      <td>3656</td>\n      <td>1879</td>\n      <td>3378</td>\n      <td>1302</td>\n      <td>616</td>\n      <td>597</td>\n      <td>2495</td>\n      <td>2593</td>\n      <td>1391</td>\n      <td>909</td>\n    </tr>\n    <tr>\n      <th>3</th>\n      <td>31</td>\n      <td>20</td>\n      <td>1</td>\n      <td>HATAY</td>\n      <td>DEFNE</td>\n      <td>798</td>\n      <td>773</td>\n      <td>763</td>\n      <td>1823</td>\n      <td>1268</td>\n      <td>...</td>\n      <td>3656</td>\n      <td>1879</td>\n      <td>3378</td>\n      <td>1302</td>\n      <td>616</td>\n      <td>597</td>\n      <td>2495</td>\n      <td>2593</td>\n      <td>1391</td>\n      <td>909</td>\n    </tr>\n    <tr>\n      <th>4</th>\n      <td>33</td>\n      <td>25</td>\n      <td>1</td>\n      <td>MERS?N</td>\n      <td>AYDINCIK</td>\n      <td>798</td>\n      <td>773</td>\n      <td>763</td>\n      <td>1823</td>\n      <td>1268</td>\n      <td>...</td>\n      <td>3656</td>\n      <td>1879</td>\n      <td>3378</td>\n      <td>1302</td>\n      <td>616</td>\n      <td>597</td>\n      <td>2495</td>\n      <td>2593</td>\n      <td>1391</td>\n      <td>909</td>\n    </tr>\n  </tbody>\n</table>\n<p>5 rows × 22 columns</p>\n</div>"
     },
     "metadata": {},
     "execution_count": 33
    }
   ],
   "source": [
    "cost_data = pd.read_csv(\"./variable-coefficients/cost/DoktarVariableCost_scenario-1.csv\")\n",
    "cost_data.head(5)"
   ]
  },
  {
   "cell_type": "code",
   "execution_count": 34,
   "metadata": {},
   "outputs": [],
   "source": [
    "def add_yield(base_data, yield_data):\n",
    "    base_data = pd.merge(base_data, yield_data, on = \"DistrictId\", how = \"left\", suffixes = (\"\", \"_extra\"))\n",
    "    base_data= base_data[base_data.columns.drop(list(base_data.filter(regex='_extra')))]\n",
    "    return base_data\n",
    "\n",
    "\n",
    "def add_price(base_data, price_data):\n",
    "    base_data = pd.merge(base_data, price_data, on = \"DistrictId\", how = \"left\", suffixes = (\"\", \"_extra\"))\n",
    "    base_data= base_data[base_data.columns.drop(list(base_data.filter(regex='_extra')))]\n",
    "    return base_data\n",
    "\n",
    "\n",
    "def add_cost(base_data, cost_data):\n",
    "    base_data = pd.merge(base_data, cost_data, on = ['DistrictId', 'IrrigationId'], how = 'left', suffixes = ('', '_extra'))\n",
    "    base_data= base_data[base_data.columns.drop(list(base_data.filter(regex='_extra')))]\n",
    "    return base_data"
   ]
  },
  {
   "cell_type": "code",
   "execution_count": 35,
   "metadata": {},
   "outputs": [
    {
     "output_type": "stream",
     "name": "stdout",
     "text": [
      "6674\n25\n"
     ]
    }
   ],
   "source": [
    "print(base_data.shape[0])\n",
    "print(base_data.shape[1])"
   ]
  },
  {
   "cell_type": "code",
   "execution_count": 36,
   "metadata": {},
   "outputs": [],
   "source": [
    "base_data = add_yield(base_data, yield_data)\n",
    "base_data = add_price(base_data, price_data)\n",
    "base_data = add_cost(base_data, cost_data)"
   ]
  },
  {
   "cell_type": "code",
   "execution_count": 37,
   "metadata": {},
   "outputs": [
    {
     "output_type": "stream",
     "name": "stdout",
     "text": [
      "6674\n76\n"
     ]
    }
   ],
   "source": [
    "print(base_data.shape[0])\n",
    "print(base_data.shape[1])"
   ]
  },
  {
   "cell_type": "code",
   "execution_count": 25,
   "metadata": {},
   "outputs": [],
   "source": [
    "def wide_to_long(crop_name, base_data):\n",
    "    main_columns = ['CityId', 'DistrictId', 'FieldId', 'IrrigationId', 'CityName', 'DistrictName', 'FieldArea', 'geometry']\n",
    "    crop_columns = list(base_data.filter(regex=(crop_name)).columns)\n",
    "    base_data = base_data.filter(main_columns + crop_columns)\n",
    "    base_data = base_data.rename(columns={crop_name + 'Percent': 'Percent', crop_name + 'Yield': 'Yield', crop_name + 'Price': 'Price', crop_name + 'Cost': 'Cost'})\n",
    "    base_data['CropName'] = crop_name\n",
    "    return base_data"
   ]
  },
  {
   "cell_type": "code",
   "execution_count": 26,
   "metadata": {},
   "outputs": [
    {
     "output_type": "stream",
     "name": "stdout",
     "text": [
      "113458\n13\n"
     ]
    }
   ],
   "source": [
    "crop_list = ['Wheat', 'Barley', 'Oat', 'Cotton', 'Soybean', 'Tomato', 'Canola', 'Potato', 'Sugarbeet', 'Onion', 'Bean', 'Lentil', 'Chickpea', 'Peanut', 'Rice', 'Corn', 'Sunflower']\n",
    "\n",
    "wide_func = partial(wide_to_long, base_data = base_data)\n",
    "long_list = list(map(wide_func, crop_list))\n",
    "long_data = pd.concat(long_list)\n",
    "long_data.head(5)\n",
    "print(long_data.shape[0])\n",
    "print(long_data.shape[1])"
   ]
  },
  {
   "cell_type": "code",
   "execution_count": 27,
   "metadata": {},
   "outputs": [
    {
     "output_type": "execute_result",
     "data": {
      "text/plain": [
       "      CityId  DistrictId  FieldId  IrrigationId CityName DistrictName  \\\n",
       "0         81         846  2068001             1    DUZCE      GOLYAKA   \n",
       "1         81         854  2068002             0    DUZCE     KAYNASLI   \n",
       "2         81         863  2068003             1    DUZCE     GUMUSOVA   \n",
       "3         81         888  2068004             0    DUZCE      CILIMLI   \n",
       "4         81         901  2068005             1    DUZCE     CUMAYERI   \n",
       "...      ...         ...      ...           ...      ...          ...   \n",
       "6669      81         901  2074670             0    DUZCE     CUMAYERI   \n",
       "6670      81         888  2074671             0    DUZCE      CILIMLI   \n",
       "6671      81         863  2074672             1    DUZCE     GUMUSOVA   \n",
       "6672      81         863  2074673             0    DUZCE     GUMUSOVA   \n",
       "6673      81         888  2074674             0    DUZCE      CILIMLI   \n",
       "\n",
       "      FieldArea                                           geometry  Percent  \\\n",
       "0      0.277168  MULTIPOLYGON (((30.91682406996663 40.728429080...     1.15   \n",
       "1      0.439520  MULTIPOLYGON (((30.91685332263513 40.727393715...     1.05   \n",
       "2      0.427013  MULTIPOLYGON (((30.9195760769791 40.7293344734...     1.15   \n",
       "3      0.274361  MULTIPOLYGON (((30.98546681716249 40.736468600...     1.05   \n",
       "4      0.694518  MULTIPOLYGON (((30.93162598297895 40.645469781...     1.09   \n",
       "...         ...                                                ...      ...   \n",
       "6669   0.453471  MULTIPOLYGON (((31.11097228702912 40.850215072...     1.00   \n",
       "6670   0.685165  MULTIPOLYGON (((31.11967166708359 40.890230105...     0.90   \n",
       "6671   3.841589  MULTIPOLYGON (((31.13569309040149 40.880117033...     0.90   \n",
       "6672   0.628193  MULTIPOLYGON (((31.2034339569929 40.8291888400...     0.90   \n",
       "6673   0.428736  MULTIPOLYGON (((31.65403903533925 41.021528775...     0.61   \n",
       "\n",
       "      Yield  Price  Cost   CropName  \n",
       "0       292   2.06   798      Wheat  \n",
       "1       292   2.06   458      Wheat  \n",
       "2       292   2.06   798      Wheat  \n",
       "3       292   2.06   458      Wheat  \n",
       "4       292   2.06   798      Wheat  \n",
       "...     ...    ...   ...        ...  \n",
       "6669    292   6.11   473  Sunflower  \n",
       "6670    292   6.11   473  Sunflower  \n",
       "6671    292   6.11   909  Sunflower  \n",
       "6672    292   6.11   473  Sunflower  \n",
       "6673    292   6.11   473  Sunflower  \n",
       "\n",
       "[113458 rows x 13 columns]"
      ],
      "text/html": "<div>\n<style scoped>\n    .dataframe tbody tr th:only-of-type {\n        vertical-align: middle;\n    }\n\n    .dataframe tbody tr th {\n        vertical-align: top;\n    }\n\n    .dataframe thead th {\n        text-align: right;\n    }\n</style>\n<table border=\"1\" class=\"dataframe\">\n  <thead>\n    <tr style=\"text-align: right;\">\n      <th></th>\n      <th>CityId</th>\n      <th>DistrictId</th>\n      <th>FieldId</th>\n      <th>IrrigationId</th>\n      <th>CityName</th>\n      <th>DistrictName</th>\n      <th>FieldArea</th>\n      <th>geometry</th>\n      <th>Percent</th>\n      <th>Yield</th>\n      <th>Price</th>\n      <th>Cost</th>\n      <th>CropName</th>\n    </tr>\n  </thead>\n  <tbody>\n    <tr>\n      <th>0</th>\n      <td>81</td>\n      <td>846</td>\n      <td>2068001</td>\n      <td>1</td>\n      <td>DUZCE</td>\n      <td>GOLYAKA</td>\n      <td>0.277168</td>\n      <td>MULTIPOLYGON (((30.91682406996663 40.728429080...</td>\n      <td>1.15</td>\n      <td>292</td>\n      <td>2.06</td>\n      <td>798</td>\n      <td>Wheat</td>\n    </tr>\n    <tr>\n      <th>1</th>\n      <td>81</td>\n      <td>854</td>\n      <td>2068002</td>\n      <td>0</td>\n      <td>DUZCE</td>\n      <td>KAYNASLI</td>\n      <td>0.439520</td>\n      <td>MULTIPOLYGON (((30.91685332263513 40.727393715...</td>\n      <td>1.05</td>\n      <td>292</td>\n      <td>2.06</td>\n      <td>458</td>\n      <td>Wheat</td>\n    </tr>\n    <tr>\n      <th>2</th>\n      <td>81</td>\n      <td>863</td>\n      <td>2068003</td>\n      <td>1</td>\n      <td>DUZCE</td>\n      <td>GUMUSOVA</td>\n      <td>0.427013</td>\n      <td>MULTIPOLYGON (((30.9195760769791 40.7293344734...</td>\n      <td>1.15</td>\n      <td>292</td>\n      <td>2.06</td>\n      <td>798</td>\n      <td>Wheat</td>\n    </tr>\n    <tr>\n      <th>3</th>\n      <td>81</td>\n      <td>888</td>\n      <td>2068004</td>\n      <td>0</td>\n      <td>DUZCE</td>\n      <td>CILIMLI</td>\n      <td>0.274361</td>\n      <td>MULTIPOLYGON (((30.98546681716249 40.736468600...</td>\n      <td>1.05</td>\n      <td>292</td>\n      <td>2.06</td>\n      <td>458</td>\n      <td>Wheat</td>\n    </tr>\n    <tr>\n      <th>4</th>\n      <td>81</td>\n      <td>901</td>\n      <td>2068005</td>\n      <td>1</td>\n      <td>DUZCE</td>\n      <td>CUMAYERI</td>\n      <td>0.694518</td>\n      <td>MULTIPOLYGON (((30.93162598297895 40.645469781...</td>\n      <td>1.09</td>\n      <td>292</td>\n      <td>2.06</td>\n      <td>798</td>\n      <td>Wheat</td>\n    </tr>\n    <tr>\n      <th>...</th>\n      <td>...</td>\n      <td>...</td>\n      <td>...</td>\n      <td>...</td>\n      <td>...</td>\n      <td>...</td>\n      <td>...</td>\n      <td>...</td>\n      <td>...</td>\n      <td>...</td>\n      <td>...</td>\n      <td>...</td>\n      <td>...</td>\n    </tr>\n    <tr>\n      <th>6669</th>\n      <td>81</td>\n      <td>901</td>\n      <td>2074670</td>\n      <td>0</td>\n      <td>DUZCE</td>\n      <td>CUMAYERI</td>\n      <td>0.453471</td>\n      <td>MULTIPOLYGON (((31.11097228702912 40.850215072...</td>\n      <td>1.00</td>\n      <td>292</td>\n      <td>6.11</td>\n      <td>473</td>\n      <td>Sunflower</td>\n    </tr>\n    <tr>\n      <th>6670</th>\n      <td>81</td>\n      <td>888</td>\n      <td>2074671</td>\n      <td>0</td>\n      <td>DUZCE</td>\n      <td>CILIMLI</td>\n      <td>0.685165</td>\n      <td>MULTIPOLYGON (((31.11967166708359 40.890230105...</td>\n      <td>0.90</td>\n      <td>292</td>\n      <td>6.11</td>\n      <td>473</td>\n      <td>Sunflower</td>\n    </tr>\n    <tr>\n      <th>6671</th>\n      <td>81</td>\n      <td>863</td>\n      <td>2074672</td>\n      <td>1</td>\n      <td>DUZCE</td>\n      <td>GUMUSOVA</td>\n      <td>3.841589</td>\n      <td>MULTIPOLYGON (((31.13569309040149 40.880117033...</td>\n      <td>0.90</td>\n      <td>292</td>\n      <td>6.11</td>\n      <td>909</td>\n      <td>Sunflower</td>\n    </tr>\n    <tr>\n      <th>6672</th>\n      <td>81</td>\n      <td>863</td>\n      <td>2074673</td>\n      <td>0</td>\n      <td>DUZCE</td>\n      <td>GUMUSOVA</td>\n      <td>0.628193</td>\n      <td>MULTIPOLYGON (((31.2034339569929 40.8291888400...</td>\n      <td>0.90</td>\n      <td>292</td>\n      <td>6.11</td>\n      <td>473</td>\n      <td>Sunflower</td>\n    </tr>\n    <tr>\n      <th>6673</th>\n      <td>81</td>\n      <td>888</td>\n      <td>2074674</td>\n      <td>0</td>\n      <td>DUZCE</td>\n      <td>CILIMLI</td>\n      <td>0.428736</td>\n      <td>MULTIPOLYGON (((31.65403903533925 41.021528775...</td>\n      <td>0.61</td>\n      <td>292</td>\n      <td>6.11</td>\n      <td>473</td>\n      <td>Sunflower</td>\n    </tr>\n  </tbody>\n</table>\n<p>113458 rows × 13 columns</p>\n</div>"
     },
     "metadata": {},
     "execution_count": 27
    }
   ],
   "source": [
    "long_data"
   ]
  },
  {
   "source": [
    "### TESTING ------"
   ],
   "cell_type": "markdown",
   "metadata": {}
  },
  {
   "cell_type": "code",
   "execution_count": null,
   "metadata": {},
   "outputs": [],
   "source": [
    "test_dat = pd.merge(base_data, yield_data, on = \"DistrictId\", how = \"left\", suffixes = (\"\", \"_extra\"))\n",
    "test_dat= test_dat[test_dat.columns.drop(list(test_dat.filter(regex='_extra')))]\n",
    "test_dat.head(5)\n",
    "print(test_dat.columns)\n",
    "print(base_data.shape[0])\n",
    "print(test_dat.shape[0])\n",
    "print(base_data.shape[1])\n",
    "print(test_dat.shape[1])"
   ]
  },
  {
   "cell_type": "code",
   "execution_count": 26,
   "metadata": {},
   "outputs": [
    {
     "output_type": "execute_result",
     "data": {
      "text/plain": [
       "'Revenue'"
      ]
     },
     "metadata": {},
     "execution_count": 26
    }
   ],
   "source": [
    "    # Scenario List\n",
    "    scenario_list = ['scenario-1','scenario-2','scenario-3','scenario-4','scenario-5']\n",
    "    coef_list = ['Revenue', 'Revenue', 'Physical', 'Revenue', 'Revenue']\n",
    "    scenario_name = 'scenario-1'\n",
    "    # Scenario Dict\n",
    "    sc_dict = {scenario_list[i]: coef_list[i] for i in range(len(scenario_list))} \n",
    "    sc_dict.get(scenario_name)"
   ]
  }
 ]
}